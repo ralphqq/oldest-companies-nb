{
 "cells": [
  {
   "cell_type": "markdown",
   "metadata": {},
   "source": [
    "# The World's Oldest Companies: Using Pandas to Find Out What, Where, and When\n",
    "Wikipedia has an interesting entry that lists out [the world's oldest companies](https://en.wikipedia.org/wiki/List_of_oldest_companies). The list includes companies founded before 1700 which are still doing business today. To be part of the list:\n",
    "> a brand or company name must remain operating, either in whole or in part, since inception.\n",
    "\n",
    "Sounds like something worth spending an entire afternoon on. So let's see what a little data wrangling with pandas can reveal about this neat dataset."
   ]
  },
  {
   "cell_type": "markdown",
   "metadata": {},
   "source": [
    "## Getting and Cleaning the Data"
   ]
  },
  {
   "cell_type": "code",
   "execution_count": 1,
   "metadata": {
    "collapsed": true
   },
   "outputs": [],
   "source": [
    "%matplotlib inline\n",
    "import matplotlib.pyplot as plt\n",
    "import numpy as np\n",
    "import pandas as pd\n",
    "import seaborn as sns"
   ]
  },
  {
   "cell_type": "markdown",
   "metadata": {
    "collapsed": true
   },
   "source": [
    "### Obtaining the Data from the Wikipedia Page\n",
    "We use pandas' top-level function `pd.read_html` to extract the tables from the page."
   ]
  },
  {
   "cell_type": "code",
   "execution_count": 2,
   "metadata": {
    "collapsed": true
   },
   "outputs": [],
   "source": [
    "tables = pd.read_html('https://en.wikipedia.org/wiki/List_of_oldest_companies')"
   ]
  },
  {
   "cell_type": "markdown",
   "metadata": {},
   "source": [
    "This function grabs all the tables on the page and stores each into its own dataframe. The function then returns a list of these dataframes. Let's see how many tables we got."
   ]
  },
  {
   "cell_type": "code",
   "execution_count": 3,
   "metadata": {},
   "outputs": [
    {
     "data": {
      "text/plain": [
       "6"
      ]
     },
     "execution_count": 3,
     "metadata": {},
     "output_type": "execute_result"
    }
   ],
   "source": [
    "len(tables)"
   ]
  },
  {
   "cell_type": "markdown",
   "metadata": {},
   "source": [
    "Great. We got all six tables on the page."
   ]
  },
  {
   "cell_type": "markdown",
   "metadata": {},
   "source": [
    "### A First Look\n",
    "Let's see what the tables look like."
   ]
  },
  {
   "cell_type": "code",
   "execution_count": 4,
   "metadata": {},
   "outputs": [
    {
     "data": {
      "text/html": [
       "<div>\n",
       "<style scoped>\n",
       "    .dataframe tbody tr th:only-of-type {\n",
       "        vertical-align: middle;\n",
       "    }\n",
       "\n",
       "    .dataframe tbody tr th {\n",
       "        vertical-align: top;\n",
       "    }\n",
       "\n",
       "    .dataframe thead th {\n",
       "        text-align: right;\n",
       "    }\n",
       "</style>\n",
       "<table border=\"1\" class=\"dataframe\">\n",
       "  <thead>\n",
       "    <tr style=\"text-align: right;\">\n",
       "      <th></th>\n",
       "      <th>0</th>\n",
       "      <th>1</th>\n",
       "      <th>2</th>\n",
       "      <th>3</th>\n",
       "      <th>4</th>\n",
       "    </tr>\n",
       "  </thead>\n",
       "  <tbody>\n",
       "    <tr>\n",
       "      <th>0</th>\n",
       "      <td>Year</td>\n",
       "      <td>Company</td>\n",
       "      <td>Current location</td>\n",
       "      <td>Field</td>\n",
       "      <td>Sources</td>\n",
       "    </tr>\n",
       "    <tr>\n",
       "      <th>1</th>\n",
       "      <td>578</td>\n",
       "      <td>Kongō Gumi</td>\n",
       "      <td>Japan</td>\n",
       "      <td>Construction</td>\n",
       "      <td>[7][8][9]</td>\n",
       "    </tr>\n",
       "    <tr>\n",
       "      <th>2</th>\n",
       "      <td>705</td>\n",
       "      <td>Nishiyama Onsen Keiunkan</td>\n",
       "      <td>Japan</td>\n",
       "      <td>Hotel</td>\n",
       "      <td>[10][11]</td>\n",
       "    </tr>\n",
       "    <tr>\n",
       "      <th>3</th>\n",
       "      <td>717</td>\n",
       "      <td>Koman</td>\n",
       "      <td>Japan</td>\n",
       "      <td>Hotel</td>\n",
       "      <td>[11][12]</td>\n",
       "    </tr>\n",
       "    <tr>\n",
       "      <th>4</th>\n",
       "      <td>718</td>\n",
       "      <td>Hōshi Ryokan</td>\n",
       "      <td>Japan</td>\n",
       "      <td>Hotel</td>\n",
       "      <td>[12][13][14]</td>\n",
       "    </tr>\n",
       "  </tbody>\n",
       "</table>\n",
       "</div>"
      ],
      "text/plain": [
       "      0                         1                 2             3  \\\n",
       "0  Year                   Company  Current location         Field   \n",
       "1   578                Kongō Gumi             Japan  Construction   \n",
       "2   705  Nishiyama Onsen Keiunkan             Japan         Hotel   \n",
       "3   717                     Koman             Japan         Hotel   \n",
       "4   718              Hōshi Ryokan             Japan         Hotel   \n",
       "\n",
       "              4  \n",
       "0       Sources  \n",
       "1     [7][8][9]  \n",
       "2      [10][11]  \n",
       "3      [11][12]  \n",
       "4  [12][13][14]  "
      ]
     },
     "execution_count": 4,
     "metadata": {},
     "output_type": "execute_result"
    }
   ],
   "source": [
    "tables[0].head()"
   ]
  },
  {
   "cell_type": "code",
   "execution_count": 5,
   "metadata": {},
   "outputs": [
    {
     "data": {
      "text/html": [
       "<div>\n",
       "<style scoped>\n",
       "    .dataframe tbody tr th:only-of-type {\n",
       "        vertical-align: middle;\n",
       "    }\n",
       "\n",
       "    .dataframe tbody tr th {\n",
       "        vertical-align: top;\n",
       "    }\n",
       "\n",
       "    .dataframe thead th {\n",
       "        text-align: right;\n",
       "    }\n",
       "</style>\n",
       "<table border=\"1\" class=\"dataframe\">\n",
       "  <thead>\n",
       "    <tr style=\"text-align: right;\">\n",
       "      <th></th>\n",
       "      <th>0</th>\n",
       "      <th>1</th>\n",
       "      <th>2</th>\n",
       "      <th>3</th>\n",
       "      <th>4</th>\n",
       "    </tr>\n",
       "  </thead>\n",
       "  <tbody>\n",
       "    <tr>\n",
       "      <th>0</th>\n",
       "      <td>Year</td>\n",
       "      <td>Company</td>\n",
       "      <td>Current location</td>\n",
       "      <td>Field</td>\n",
       "      <td>Sources</td>\n",
       "    </tr>\n",
       "    <tr>\n",
       "      <th>1</th>\n",
       "      <td>circa 1500</td>\n",
       "      <td>Ammerndorfer</td>\n",
       "      <td>Germany</td>\n",
       "      <td>Mill</td>\n",
       "      <td>[230]</td>\n",
       "    </tr>\n",
       "    <tr>\n",
       "      <th>2</th>\n",
       "      <td>1500</td>\n",
       "      <td>Arthur Beale</td>\n",
       "      <td>United Kingdom</td>\n",
       "      <td>Chandler</td>\n",
       "      <td>[231][232]</td>\n",
       "    </tr>\n",
       "    <tr>\n",
       "      <th>3</th>\n",
       "      <td>1500</td>\n",
       "      <td>Ubaldo Grazia</td>\n",
       "      <td>Italy</td>\n",
       "      <td>Pottery</td>\n",
       "      <td>[13][28]</td>\n",
       "    </tr>\n",
       "    <tr>\n",
       "      <th>4</th>\n",
       "      <td>1501</td>\n",
       "      <td>Fukkodo</td>\n",
       "      <td>Japan</td>\n",
       "      <td>Brushes</td>\n",
       "      <td>[233]</td>\n",
       "    </tr>\n",
       "  </tbody>\n",
       "</table>\n",
       "</div>"
      ],
      "text/plain": [
       "            0              1                 2         3           4\n",
       "0        Year        Company  Current location     Field     Sources\n",
       "1  circa 1500   Ammerndorfer           Germany      Mill       [230]\n",
       "2        1500   Arthur Beale    United Kingdom  Chandler  [231][232]\n",
       "3        1500  Ubaldo Grazia             Italy   Pottery    [13][28]\n",
       "4        1501        Fukkodo             Japan   Brushes       [233]"
      ]
     },
     "execution_count": 5,
     "metadata": {},
     "output_type": "execute_result"
    }
   ],
   "source": [
    "tables[3].head()"
   ]
  },
  {
   "cell_type": "code",
   "execution_count": 6,
   "metadata": {},
   "outputs": [
    {
     "data": {
      "text/html": [
       "<div>\n",
       "<style scoped>\n",
       "    .dataframe tbody tr th:only-of-type {\n",
       "        vertical-align: middle;\n",
       "    }\n",
       "\n",
       "    .dataframe tbody tr th {\n",
       "        vertical-align: top;\n",
       "    }\n",
       "\n",
       "    .dataframe thead th {\n",
       "        text-align: right;\n",
       "    }\n",
       "</style>\n",
       "<table border=\"1\" class=\"dataframe\">\n",
       "  <thead>\n",
       "    <tr style=\"text-align: right;\">\n",
       "      <th></th>\n",
       "      <th>0</th>\n",
       "      <th>1</th>\n",
       "      <th>2</th>\n",
       "      <th>3</th>\n",
       "      <th>4</th>\n",
       "    </tr>\n",
       "  </thead>\n",
       "  <tbody>\n",
       "    <tr>\n",
       "      <th>0</th>\n",
       "      <td>Year</td>\n",
       "      <td>Company</td>\n",
       "      <td>Current location</td>\n",
       "      <td>Field</td>\n",
       "      <td>Sources</td>\n",
       "    </tr>\n",
       "    <tr>\n",
       "      <th>1</th>\n",
       "      <td>1650</td>\n",
       "      <td>Aannemers- en Timmerbedrijf Roozemond</td>\n",
       "      <td>Netherlands</td>\n",
       "      <td>Construction</td>\n",
       "      <td>[280]</td>\n",
       "    </tr>\n",
       "    <tr>\n",
       "      <th>2</th>\n",
       "      <td>1650</td>\n",
       "      <td>Yukawa</td>\n",
       "      <td>Japan</td>\n",
       "      <td>Sake</td>\n",
       "      <td>[270]</td>\n",
       "    </tr>\n",
       "    <tr>\n",
       "      <th>3</th>\n",
       "      <td>1650</td>\n",
       "      <td>Schlossbrauerei Autenrieder</td>\n",
       "      <td>Germany</td>\n",
       "      <td>Brewery</td>\n",
       "      <td>[553]</td>\n",
       "    </tr>\n",
       "    <tr>\n",
       "      <th>4</th>\n",
       "      <td>1650</td>\n",
       "      <td>Fachwerk 33</td>\n",
       "      <td>Germany</td>\n",
       "      <td>Restaurant</td>\n",
       "      <td>[554]</td>\n",
       "    </tr>\n",
       "  </tbody>\n",
       "</table>\n",
       "</div>"
      ],
      "text/plain": [
       "      0                                      1                 2  \\\n",
       "0  Year                                Company  Current location   \n",
       "1  1650  Aannemers- en Timmerbedrijf Roozemond       Netherlands   \n",
       "2  1650                                 Yukawa             Japan   \n",
       "3  1650            Schlossbrauerei Autenrieder           Germany   \n",
       "4  1650                            Fachwerk 33           Germany   \n",
       "\n",
       "              3        4  \n",
       "0         Field  Sources  \n",
       "1  Construction    [280]  \n",
       "2          Sake    [270]  \n",
       "3       Brewery    [553]  \n",
       "4    Restaurant    [554]  "
      ]
     },
     "execution_count": 6,
     "metadata": {},
     "output_type": "execute_result"
    }
   ],
   "source": [
    "tables[5].head()"
   ]
  },
  {
   "cell_type": "markdown",
   "metadata": {},
   "source": [
    "### Fixing the Column Names\n",
    "It seems the column labels we want are not in the header row."
   ]
  },
  {
   "cell_type": "code",
   "execution_count": 7,
   "metadata": {},
   "outputs": [
    {
     "data": {
      "text/plain": [
       "Int64Index([0, 1, 2, 3, 4], dtype='int64')"
      ]
     },
     "execution_count": 7,
     "metadata": {},
     "output_type": "execute_result"
    }
   ],
   "source": [
    "tables[0].columns"
   ]
  },
  {
   "cell_type": "markdown",
   "metadata": {},
   "source": [
    "Let's fix that."
   ]
  },
  {
   "cell_type": "code",
   "execution_count": 8,
   "metadata": {
    "collapsed": true
   },
   "outputs": [],
   "source": [
    "# iterate over each table in the list\n",
    "for table in tables:\n",
    "    table.columns = table.iloc[0].values    # set first row as col names\n",
    "    table.drop(0, inplace=True)             # drop the first row\n",
    "    table.reset_index(drop=True, inplace=True)      # reset the index"
   ]
  },
  {
   "cell_type": "code",
   "execution_count": 9,
   "metadata": {},
   "outputs": [
    {
     "data": {
      "text/plain": [
       "Index(['Year', 'Company', 'Current location', 'Field', 'Sources'], dtype='object')"
      ]
     },
     "execution_count": 9,
     "metadata": {},
     "output_type": "execute_result"
    }
   ],
   "source": [
    "tables[0].columns"
   ]
  },
  {
   "cell_type": "code",
   "execution_count": 10,
   "metadata": {},
   "outputs": [
    {
     "data": {
      "text/html": [
       "<div>\n",
       "<style scoped>\n",
       "    .dataframe tbody tr th:only-of-type {\n",
       "        vertical-align: middle;\n",
       "    }\n",
       "\n",
       "    .dataframe tbody tr th {\n",
       "        vertical-align: top;\n",
       "    }\n",
       "\n",
       "    .dataframe thead th {\n",
       "        text-align: right;\n",
       "    }\n",
       "</style>\n",
       "<table border=\"1\" class=\"dataframe\">\n",
       "  <thead>\n",
       "    <tr style=\"text-align: right;\">\n",
       "      <th></th>\n",
       "      <th>Year</th>\n",
       "      <th>Company</th>\n",
       "      <th>Current location</th>\n",
       "      <th>Field</th>\n",
       "      <th>Sources</th>\n",
       "    </tr>\n",
       "  </thead>\n",
       "  <tbody>\n",
       "    <tr>\n",
       "      <th>0</th>\n",
       "      <td>578</td>\n",
       "      <td>Kongō Gumi</td>\n",
       "      <td>Japan</td>\n",
       "      <td>Construction</td>\n",
       "      <td>[7][8][9]</td>\n",
       "    </tr>\n",
       "    <tr>\n",
       "      <th>1</th>\n",
       "      <td>705</td>\n",
       "      <td>Nishiyama Onsen Keiunkan</td>\n",
       "      <td>Japan</td>\n",
       "      <td>Hotel</td>\n",
       "      <td>[10][11]</td>\n",
       "    </tr>\n",
       "    <tr>\n",
       "      <th>2</th>\n",
       "      <td>717</td>\n",
       "      <td>Koman</td>\n",
       "      <td>Japan</td>\n",
       "      <td>Hotel</td>\n",
       "      <td>[11][12]</td>\n",
       "    </tr>\n",
       "    <tr>\n",
       "      <th>3</th>\n",
       "      <td>718</td>\n",
       "      <td>Hōshi Ryokan</td>\n",
       "      <td>Japan</td>\n",
       "      <td>Hotel</td>\n",
       "      <td>[12][13][14]</td>\n",
       "    </tr>\n",
       "    <tr>\n",
       "      <th>4</th>\n",
       "      <td>771</td>\n",
       "      <td>Genda Shigyō</td>\n",
       "      <td>Japan</td>\n",
       "      <td>Ceremonial paper goods</td>\n",
       "      <td>[15]</td>\n",
       "    </tr>\n",
       "  </tbody>\n",
       "</table>\n",
       "</div>"
      ],
      "text/plain": [
       "  Year                   Company Current location                   Field  \\\n",
       "0  578                Kongō Gumi            Japan            Construction   \n",
       "1  705  Nishiyama Onsen Keiunkan            Japan                   Hotel   \n",
       "2  717                     Koman            Japan                   Hotel   \n",
       "3  718              Hōshi Ryokan            Japan                   Hotel   \n",
       "4  771              Genda Shigyō            Japan  Ceremonial paper goods   \n",
       "\n",
       "        Sources  \n",
       "0     [7][8][9]  \n",
       "1      [10][11]  \n",
       "2      [11][12]  \n",
       "3  [12][13][14]  \n",
       "4          [15]  "
      ]
     },
     "execution_count": 10,
     "metadata": {},
     "output_type": "execute_result"
    }
   ],
   "source": [
    "tables[0].head()"
   ]
  },
  {
   "cell_type": "code",
   "execution_count": 11,
   "metadata": {},
   "outputs": [
    {
     "data": {
      "text/plain": [
       "Index(['Year', 'Company', 'Current location', 'Field', 'Sources'], dtype='object')"
      ]
     },
     "execution_count": 11,
     "metadata": {},
     "output_type": "execute_result"
    }
   ],
   "source": [
    "tables[3].columns"
   ]
  },
  {
   "cell_type": "code",
   "execution_count": 12,
   "metadata": {},
   "outputs": [
    {
     "data": {
      "text/html": [
       "<div>\n",
       "<style scoped>\n",
       "    .dataframe tbody tr th:only-of-type {\n",
       "        vertical-align: middle;\n",
       "    }\n",
       "\n",
       "    .dataframe tbody tr th {\n",
       "        vertical-align: top;\n",
       "    }\n",
       "\n",
       "    .dataframe thead th {\n",
       "        text-align: right;\n",
       "    }\n",
       "</style>\n",
       "<table border=\"1\" class=\"dataframe\">\n",
       "  <thead>\n",
       "    <tr style=\"text-align: right;\">\n",
       "      <th></th>\n",
       "      <th>Year</th>\n",
       "      <th>Company</th>\n",
       "      <th>Current location</th>\n",
       "      <th>Field</th>\n",
       "      <th>Sources</th>\n",
       "    </tr>\n",
       "  </thead>\n",
       "  <tbody>\n",
       "    <tr>\n",
       "      <th>0</th>\n",
       "      <td>circa 1500</td>\n",
       "      <td>Ammerndorfer</td>\n",
       "      <td>Germany</td>\n",
       "      <td>Mill</td>\n",
       "      <td>[230]</td>\n",
       "    </tr>\n",
       "    <tr>\n",
       "      <th>1</th>\n",
       "      <td>1500</td>\n",
       "      <td>Arthur Beale</td>\n",
       "      <td>United Kingdom</td>\n",
       "      <td>Chandler</td>\n",
       "      <td>[231][232]</td>\n",
       "    </tr>\n",
       "    <tr>\n",
       "      <th>2</th>\n",
       "      <td>1500</td>\n",
       "      <td>Ubaldo Grazia</td>\n",
       "      <td>Italy</td>\n",
       "      <td>Pottery</td>\n",
       "      <td>[13][28]</td>\n",
       "    </tr>\n",
       "    <tr>\n",
       "      <th>3</th>\n",
       "      <td>1501</td>\n",
       "      <td>Fukkodo</td>\n",
       "      <td>Japan</td>\n",
       "      <td>Brushes</td>\n",
       "      <td>[233]</td>\n",
       "    </tr>\n",
       "    <tr>\n",
       "      <th>4</th>\n",
       "      <td>1502</td>\n",
       "      <td>Tsutaya</td>\n",
       "      <td>Japan</td>\n",
       "      <td>Confectionery</td>\n",
       "      <td>[234]</td>\n",
       "    </tr>\n",
       "  </tbody>\n",
       "</table>\n",
       "</div>"
      ],
      "text/plain": [
       "         Year        Company Current location          Field     Sources\n",
       "0  circa 1500   Ammerndorfer          Germany           Mill       [230]\n",
       "1        1500   Arthur Beale   United Kingdom       Chandler  [231][232]\n",
       "2        1500  Ubaldo Grazia            Italy        Pottery    [13][28]\n",
       "3        1501        Fukkodo            Japan        Brushes       [233]\n",
       "4        1502        Tsutaya            Japan  Confectionery       [234]"
      ]
     },
     "execution_count": 12,
     "metadata": {},
     "output_type": "execute_result"
    }
   ],
   "source": [
    "tables[3].head()"
   ]
  },
  {
   "cell_type": "markdown",
   "metadata": {},
   "source": [
    "That's much better, although things would have been much, much simpler if we specified the header row when we called `read_html`."
   ]
  },
  {
   "cell_type": "markdown",
   "metadata": {
    "collapsed": true
   },
   "source": [
    "### Combining the Tables\n",
    "Let's combine the six dataframes into a single dataframe."
   ]
  },
  {
   "cell_type": "code",
   "execution_count": 13,
   "metadata": {
    "collapsed": true
   },
   "outputs": [],
   "source": [
    "data = pd.concat(tables, ignore_index=True)"
   ]
  },
  {
   "cell_type": "code",
   "execution_count": 14,
   "metadata": {},
   "outputs": [
    {
     "data": {
      "text/plain": [
       "(984, 5)"
      ]
     },
     "execution_count": 14,
     "metadata": {},
     "output_type": "execute_result"
    }
   ],
   "source": [
    "# check if the merged dataframe has the correct shape\n",
    "data.shape"
   ]
  },
  {
   "cell_type": "code",
   "execution_count": 15,
   "metadata": {},
   "outputs": [
    {
     "name": "stdout",
     "output_type": "stream",
     "text": [
      "<class 'pandas.core.frame.DataFrame'>\n",
      "RangeIndex: 984 entries, 0 to 983\n",
      "Data columns (total 5 columns):\n",
      "Year                984 non-null object\n",
      "Company             984 non-null object\n",
      "Current location    984 non-null object\n",
      "Field               984 non-null object\n",
      "Sources             880 non-null object\n",
      "dtypes: object(5)\n",
      "memory usage: 38.5+ KB\n"
     ]
    }
   ],
   "source": [
    "# check if the merged dataframe has the correct columns and data types\n",
    "data.info()"
   ]
  },
  {
   "cell_type": "markdown",
   "metadata": {},
   "source": [
    "Looks good, but needs a bit more cleaning up. Let's start by dropping the `Sources` column since we probably don't need this in our analysis."
   ]
  },
  {
   "cell_type": "code",
   "execution_count": 16,
   "metadata": {
    "collapsed": true
   },
   "outputs": [],
   "source": [
    "data.drop('Sources', axis=1, inplace=True)"
   ]
  },
  {
   "cell_type": "code",
   "execution_count": 17,
   "metadata": {},
   "outputs": [
    {
     "data": {
      "text/plain": [
       "Index(['Year', 'Company', 'Current location', 'Field'], dtype='object')"
      ]
     },
     "execution_count": 17,
     "metadata": {},
     "output_type": "execute_result"
    }
   ],
   "source": [
    "# check if the dataframe no longer contains the sources column\n",
    "data.columns"
   ]
  },
  {
   "cell_type": "markdown",
   "metadata": {},
   "source": [
    "### Converting the Year Column into the Right Data Type\n",
    "We see that the `Year` column is formatted as a string. To make sure this column behaves as expected when we do some operations on it later, let's convert it into the right data type."
   ]
  },
  {
   "cell_type": "code",
   "execution_count": 18,
   "metadata": {
    "collapsed": true
   },
   "outputs": [],
   "source": [
    "data['Year'] = data.Year.str.extract('(\\d+)', expand=False).astype('int64')"
   ]
  },
  {
   "cell_type": "code",
   "execution_count": 19,
   "metadata": {},
   "outputs": [
    {
     "name": "stdout",
     "output_type": "stream",
     "text": [
      "<class 'pandas.core.frame.DataFrame'>\n",
      "RangeIndex: 984 entries, 0 to 983\n",
      "Data columns (total 4 columns):\n",
      "Year                984 non-null int64\n",
      "Company             984 non-null object\n",
      "Current location    984 non-null object\n",
      "Field               984 non-null object\n",
      "dtypes: int64(1), object(3)\n",
      "memory usage: 30.8+ KB\n"
     ]
    }
   ],
   "source": [
    "# check if the dataframe has the right columns and data types\n",
    "data.info()"
   ]
  },
  {
   "cell_type": "markdown",
   "metadata": {},
   "source": [
    "In our case, the \"right\" data type turns out to be `int64` since converting into `datetime64` would have created problems for rows with years before 1970, which happens to be all the rows in the dataset. Please tell me  if you know a way to properly convert the `Year` column into the `datetime64` data type."
   ]
  },
  {
   "cell_type": "markdown",
   "metadata": {},
   "source": [
    "## Some Basic Data Analysis\n",
    "Now, we've (hopefully) turned the dataframe into something we can work with. Let the analysis begin!"
   ]
  },
  {
   "cell_type": "markdown",
   "metadata": {
    "collapsed": true
   },
   "source": [
    "### Year Founded and Company Age\n",
    "Let's start by taking some descriptive stats about the company's founding year and its current age. We'll add a new column to show the current age (years since inception)."
   ]
  },
  {
   "cell_type": "code",
   "execution_count": 20,
   "metadata": {
    "collapsed": true
   },
   "outputs": [],
   "source": [
    "# I did this in 2018, so let's use that as the current year\n",
    "data['Age'] = 2018 - data.Year"
   ]
  },
  {
   "cell_type": "code",
   "execution_count": 21,
   "metadata": {},
   "outputs": [
    {
     "name": "stdout",
     "output_type": "stream",
     "text": [
      "<class 'pandas.core.frame.DataFrame'>\n",
      "RangeIndex: 984 entries, 0 to 983\n",
      "Data columns (total 5 columns):\n",
      "Year                984 non-null int64\n",
      "Company             984 non-null object\n",
      "Current location    984 non-null object\n",
      "Field               984 non-null object\n",
      "Age                 984 non-null int64\n",
      "dtypes: int64(2), object(3)\n",
      "memory usage: 38.5+ KB\n"
     ]
    }
   ],
   "source": [
    "# check the columns again\n",
    "data.info()"
   ]
  },
  {
   "cell_type": "code",
   "execution_count": 22,
   "metadata": {},
   "outputs": [
    {
     "data": {
      "text/html": [
       "<div>\n",
       "<style scoped>\n",
       "    .dataframe tbody tr th:only-of-type {\n",
       "        vertical-align: middle;\n",
       "    }\n",
       "\n",
       "    .dataframe tbody tr th {\n",
       "        vertical-align: top;\n",
       "    }\n",
       "\n",
       "    .dataframe thead th {\n",
       "        text-align: right;\n",
       "    }\n",
       "</style>\n",
       "<table border=\"1\" class=\"dataframe\">\n",
       "  <thead>\n",
       "    <tr style=\"text-align: right;\">\n",
       "      <th></th>\n",
       "      <th>Year</th>\n",
       "      <th>Age</th>\n",
       "    </tr>\n",
       "  </thead>\n",
       "  <tbody>\n",
       "    <tr>\n",
       "      <th>count</th>\n",
       "      <td>984.000000</td>\n",
       "      <td>984.000000</td>\n",
       "    </tr>\n",
       "    <tr>\n",
       "      <th>mean</th>\n",
       "      <td>1560.382114</td>\n",
       "      <td>457.617886</td>\n",
       "    </tr>\n",
       "    <tr>\n",
       "      <th>std</th>\n",
       "      <td>160.316378</td>\n",
       "      <td>160.316378</td>\n",
       "    </tr>\n",
       "    <tr>\n",
       "      <th>min</th>\n",
       "      <td>578.000000</td>\n",
       "      <td>319.000000</td>\n",
       "    </tr>\n",
       "    <tr>\n",
       "      <th>25%</th>\n",
       "      <td>1534.000000</td>\n",
       "      <td>357.000000</td>\n",
       "    </tr>\n",
       "    <tr>\n",
       "      <th>50%</th>\n",
       "      <td>1615.000000</td>\n",
       "      <td>403.000000</td>\n",
       "    </tr>\n",
       "    <tr>\n",
       "      <th>75%</th>\n",
       "      <td>1661.000000</td>\n",
       "      <td>484.000000</td>\n",
       "    </tr>\n",
       "    <tr>\n",
       "      <th>max</th>\n",
       "      <td>1699.000000</td>\n",
       "      <td>1440.000000</td>\n",
       "    </tr>\n",
       "  </tbody>\n",
       "</table>\n",
       "</div>"
      ],
      "text/plain": [
       "              Year          Age\n",
       "count   984.000000   984.000000\n",
       "mean   1560.382114   457.617886\n",
       "std     160.316378   160.316378\n",
       "min     578.000000   319.000000\n",
       "25%    1534.000000   357.000000\n",
       "50%    1615.000000   403.000000\n",
       "75%    1661.000000   484.000000\n",
       "max    1699.000000  1440.000000"
      ]
     },
     "execution_count": 22,
     "metadata": {},
     "output_type": "execute_result"
    }
   ],
   "source": [
    "# get some summary statistics\n",
    "data.describe()"
   ]
  },
  {
   "cell_type": "markdown",
   "metadata": {},
   "source": [
    "We see the following:\n",
    "* The oldest company (or companies) was (or were) founded in the year 578 and is (are) now 1,440 years old.\n",
    "* The median age of the world's oldest companies is around 403 years old."
   ]
  },
  {
   "cell_type": "code",
   "execution_count": 23,
   "metadata": {},
   "outputs": [
    {
     "data": {
      "text/plain": [
       "Year                         578\n",
       "Company               Kongō Gumi\n",
       "Current location           Japan\n",
       "Field               Construction\n",
       "Age                         1440\n",
       "Name: 0, dtype: object"
      ]
     },
     "execution_count": 23,
     "metadata": {},
     "output_type": "execute_result"
    }
   ],
   "source": [
    "# get the row pertaining to the world's oldest company\n",
    "data.loc[data.Year.idxmin()]"
   ]
  },
  {
   "cell_type": "markdown",
   "metadata": {},
   "source": [
    "The dataset tells us that the world's oldest continuously operating company is [Kongō Gumi](https://en.wikipedia.org/wiki/Kong%C5%8D_Gumi), a Japan-based construction firm. Some quick googling reveals that the company started out building Buddhist temples in the 6th century and was absorbed by Takamatsu Construction in 2006."
   ]
  },
  {
   "cell_type": "code",
   "execution_count": 24,
   "metadata": {},
   "outputs": [
    {
     "data": {
      "text/plain": [
       "<matplotlib.axes._subplots.AxesSubplot at 0x279e82257f0>"
      ]
     },
     "execution_count": 24,
     "metadata": {},
     "output_type": "execute_result"
    },
    {
     "data": {
      "image/png": "[encoded data removed]",
      "text/plain": [
       "<matplotlib.figure.Figure at 0x279e8225278>"
      ]
     },
     "metadata": {},
     "output_type": "display_data"
    }
   ],
   "source": [
    "# plot the histogram of the company ages\n",
    "sns.set_style('dark')\n",
    "sns.distplot(data.Age)"
   ]
  },
  {
   "cell_type": "markdown",
   "metadata": {
    "collapsed": true
   },
   "source": [
    "A histogram of the companies' ages shows a distribution resembling a [Power Law](https://en.wikipedia.org/wiki/Power_law#Power-law_probability_distributions)."
   ]
  },
  {
   "cell_type": "code",
   "execution_count": null,
   "metadata": {
    "collapsed": true
   },
   "outputs": [],
   "source": []
  },
  {
   "cell_type": "markdown",
   "metadata": {},
   "source": [
    "### Oldest Companies by Country (or Current Location)\n",
    "Let's take a look at the dataset at the country level."
   ]
  },
  {
   "cell_type": "code",
   "execution_count": 25,
   "metadata": {},
   "outputs": [
    {
     "data": {
      "text/plain": [
       "Japan             520\n",
       "Germany           180\n",
       "United Kingdom     45\n",
       "Austria            43\n",
       "Switzerland        39\n",
       "France             28\n",
       "Italy              25\n",
       "Netherlands        22\n",
       "China              12\n",
       "United States      10\n",
       "Czech Republic      9\n",
       "Sweden              8\n",
       "Poland              8\n",
       "Belgium             8\n",
       "Spain               6\n",
       "Ireland             4\n",
       "Portugal            3\n",
       "Norway              2\n",
       "Finland             2\n",
       "Slovakia            2\n",
       "Ukraine             1\n",
       "Denmark             1\n",
       "Latvia              1\n",
       "Canada              1\n",
       "Netherland          1\n",
       "Lithuania           1\n",
       "Turkey              1\n",
       "Estonia             1\n",
       "Name: Current location, dtype: int64"
      ]
     },
     "execution_count": 25,
     "metadata": {},
     "output_type": "execute_result"
    }
   ],
   "source": [
    "# count how many old companies each country in the dataset has\n",
    "data['Current location'].value_counts()"
   ]
  },
  {
   "cell_type": "markdown",
   "metadata": {},
   "source": [
    "More than a majority of the world's oldest companies are currently located in Japan.\n",
    "\n",
    "But we see one problem with the above result. There are separate entries for \"Netherlands\" and \"Netherland\". Let's fix this:"
   ]
  },
  {
   "cell_type": "code",
   "execution_count": 26,
   "metadata": {
    "collapsed": true
   },
   "outputs": [],
   "source": [
    "data['Current location'] = data['Current location'].str.replace('Netherland$', 'Netherlands')"
   ]
  },
  {
   "cell_type": "code",
   "execution_count": 27,
   "metadata": {},
   "outputs": [
    {
     "data": {
      "text/plain": [
       "Japan             520\n",
       "Germany           180\n",
       "United Kingdom     45\n",
       "Austria            43\n",
       "Switzerland        39\n",
       "France             28\n",
       "Italy              25\n",
       "Netherlands        23\n",
       "China              12\n",
       "United States      10\n",
       "Czech Republic      9\n",
       "Poland              8\n",
       "Sweden              8\n",
       "Belgium             8\n",
       "Spain               6\n",
       "Ireland             4\n",
       "Portugal            3\n",
       "Slovakia            2\n",
       "Norway              2\n",
       "Finland             2\n",
       "Ukraine             1\n",
       "Denmark             1\n",
       "Latvia              1\n",
       "Lithuania           1\n",
       "Canada              1\n",
       "Turkey              1\n",
       "Estonia             1\n",
       "Name: Current location, dtype: int64"
      ]
     },
     "execution_count": 27,
     "metadata": {},
     "output_type": "execute_result"
    }
   ],
   "source": [
    "# count how many old companies each country in the dataset has\n",
    "countries_counts = data['Current location'].value_counts()\n",
    "countries_counts"
   ]
  },
  {
   "cell_type": "markdown",
   "metadata": {},
   "source": [
    "That's better."
   ]
  },
  {
   "cell_type": "code",
   "execution_count": 28,
   "metadata": {},
   "outputs": [
    {
     "data": {
      "text/plain": [
       "27"
      ]
     },
     "execution_count": 28,
     "metadata": {},
     "output_type": "execute_result"
    }
   ],
   "source": [
    "# count how many unique countries in the dataset\n",
    "data['Current location'].nunique()"
   ]
  },
  {
   "cell_type": "markdown",
   "metadata": {},
   "source": [
    "We see that:\n",
    "* There are 27 countries included in the dataset\n",
    "* More than half the world's oldest companies are currently located in Japan.\n",
    "*\n",
    "\n",
    "For each country, the oldest companies are:"
   ]
  },
  {
   "cell_type": "code",
   "execution_count": 29,
   "metadata": {},
   "outputs": [
    {
     "data": {
      "text/html": [
       "<div>\n",
       "<style scoped>\n",
       "    .dataframe tbody tr th:only-of-type {\n",
       "        vertical-align: middle;\n",
       "    }\n",
       "\n",
       "    .dataframe tbody tr th {\n",
       "        vertical-align: top;\n",
       "    }\n",
       "\n",
       "    .dataframe thead th {\n",
       "        text-align: right;\n",
       "    }\n",
       "</style>\n",
       "<table border=\"1\" class=\"dataframe\">\n",
       "  <thead>\n",
       "    <tr style=\"text-align: right;\">\n",
       "      <th></th>\n",
       "      <th>Year</th>\n",
       "      <th>Company</th>\n",
       "      <th>Current location</th>\n",
       "      <th>Field</th>\n",
       "      <th>Age</th>\n",
       "    </tr>\n",
       "  </thead>\n",
       "  <tbody>\n",
       "    <tr>\n",
       "      <th>0</th>\n",
       "      <td>578</td>\n",
       "      <td>Kongō Gumi</td>\n",
       "      <td>Japan</td>\n",
       "      <td>Construction</td>\n",
       "      <td>1440</td>\n",
       "    </tr>\n",
       "    <tr>\n",
       "      <th>5</th>\n",
       "      <td>803</td>\n",
       "      <td>Stiftskeller St. Peter</td>\n",
       "      <td>Austria</td>\n",
       "      <td>Restaurant</td>\n",
       "      <td>1215</td>\n",
       "    </tr>\n",
       "    <tr>\n",
       "      <th>6</th>\n",
       "      <td>862</td>\n",
       "      <td>Staffelter Hof</td>\n",
       "      <td>Germany</td>\n",
       "      <td>Wine</td>\n",
       "      <td>1156</td>\n",
       "    </tr>\n",
       "    <tr>\n",
       "      <th>7</th>\n",
       "      <td>864</td>\n",
       "      <td>Monnaie de Paris</td>\n",
       "      <td>France</td>\n",
       "      <td>Mint</td>\n",
       "      <td>1154</td>\n",
       "    </tr>\n",
       "    <tr>\n",
       "      <th>9</th>\n",
       "      <td>886</td>\n",
       "      <td>Royal Mint</td>\n",
       "      <td>United Kingdom</td>\n",
       "      <td>Mint</td>\n",
       "      <td>1132</td>\n",
       "    </tr>\n",
       "    <tr>\n",
       "      <th>10</th>\n",
       "      <td>900</td>\n",
       "      <td>Sean's Bar</td>\n",
       "      <td>Ireland</td>\n",
       "      <td>Pub</td>\n",
       "      <td>1118</td>\n",
       "    </tr>\n",
       "    <tr>\n",
       "      <th>14</th>\n",
       "      <td>1000</td>\n",
       "      <td>Marinelli Bell Foundry</td>\n",
       "      <td>Italy</td>\n",
       "      <td>Foundry</td>\n",
       "      <td>1018</td>\n",
       "    </tr>\n",
       "    <tr>\n",
       "      <th>20</th>\n",
       "      <td>1074</td>\n",
       "      <td>Affligem brewery</td>\n",
       "      <td>Belgium</td>\n",
       "      <td>Brewery</td>\n",
       "      <td>944</td>\n",
       "    </tr>\n",
       "    <tr>\n",
       "      <th>31</th>\n",
       "      <td>1135</td>\n",
       "      <td>Munke Mølle</td>\n",
       "      <td>Denmark</td>\n",
       "      <td>Mill</td>\n",
       "      <td>883</td>\n",
       "    </tr>\n",
       "    <tr>\n",
       "      <th>50</th>\n",
       "      <td>1230</td>\n",
       "      <td>Gasthof Sternen</td>\n",
       "      <td>Switzerland</td>\n",
       "      <td>Restaurant</td>\n",
       "      <td>788</td>\n",
       "    </tr>\n",
       "    <tr>\n",
       "      <th>55</th>\n",
       "      <td>1248</td>\n",
       "      <td>Bochnia</td>\n",
       "      <td>Poland</td>\n",
       "      <td>Salt</td>\n",
       "      <td>770</td>\n",
       "    </tr>\n",
       "    <tr>\n",
       "      <th>65</th>\n",
       "      <td>1288</td>\n",
       "      <td>StoraEnso</td>\n",
       "      <td>Finland</td>\n",
       "      <td>Paper</td>\n",
       "      <td>730</td>\n",
       "    </tr>\n",
       "    <tr>\n",
       "      <th>86</th>\n",
       "      <td>1328</td>\n",
       "      <td>Kremnica Mint</td>\n",
       "      <td>Slovakia</td>\n",
       "      <td>Mint</td>\n",
       "      <td>690</td>\n",
       "    </tr>\n",
       "    <tr>\n",
       "      <th>94</th>\n",
       "      <td>1340</td>\n",
       "      <td>Brand</td>\n",
       "      <td>Netherlands</td>\n",
       "      <td>Brewery</td>\n",
       "      <td>678</td>\n",
       "    </tr>\n",
       "    <tr>\n",
       "      <th>99</th>\n",
       "      <td>1346</td>\n",
       "      <td>Skyllbergs bruk</td>\n",
       "      <td>Sweden</td>\n",
       "      <td>Iron processing</td>\n",
       "      <td>672</td>\n",
       "    </tr>\n",
       "    <tr>\n",
       "      <th>100</th>\n",
       "      <td>1348</td>\n",
       "      <td>Pivovar Broumov</td>\n",
       "      <td>Czech Republic</td>\n",
       "      <td>Brewery</td>\n",
       "      <td>670</td>\n",
       "    </tr>\n",
       "    <tr>\n",
       "      <th>141</th>\n",
       "      <td>1416</td>\n",
       "      <td>Bianyifang</td>\n",
       "      <td>China</td>\n",
       "      <td>Restaurant</td>\n",
       "      <td>602</td>\n",
       "    </tr>\n",
       "    <tr>\n",
       "      <th>147</th>\n",
       "      <td>1422</td>\n",
       "      <td>Raeapteek</td>\n",
       "      <td>Estonia</td>\n",
       "      <td>Pharmacy</td>\n",
       "      <td>596</td>\n",
       "    </tr>\n",
       "    <tr>\n",
       "      <th>205</th>\n",
       "      <td>1497</td>\n",
       "      <td>Raventós i Blanc</td>\n",
       "      <td>Spain</td>\n",
       "      <td>Wine</td>\n",
       "      <td>521</td>\n",
       "    </tr>\n",
       "    <tr>\n",
       "      <th>352</th>\n",
       "      <td>1584</td>\n",
       "      <td>Çemberlitaş Hamamı</td>\n",
       "      <td>Turkey</td>\n",
       "      <td>Turkish bath</td>\n",
       "      <td>434</td>\n",
       "    </tr>\n",
       "    <tr>\n",
       "      <th>377</th>\n",
       "      <td>1590</td>\n",
       "      <td>Cēsu Alus</td>\n",
       "      <td>Latvia</td>\n",
       "      <td>Brewery</td>\n",
       "      <td>428</td>\n",
       "    </tr>\n",
       "    <tr>\n",
       "      <th>486</th>\n",
       "      <td>1613</td>\n",
       "      <td>Shirley Plantation</td>\n",
       "      <td>United States</td>\n",
       "      <td>Farm</td>\n",
       "      <td>405</td>\n",
       "    </tr>\n",
       "    <tr>\n",
       "      <th>607</th>\n",
       "      <td>1635</td>\n",
       "      <td>Casa Batalha</td>\n",
       "      <td>Portugal</td>\n",
       "      <td>Jewellery</td>\n",
       "      <td>383</td>\n",
       "    </tr>\n",
       "    <tr>\n",
       "      <th>620</th>\n",
       "      <td>1638</td>\n",
       "      <td>Tysmenytsia Fur Company</td>\n",
       "      <td>Ukraine</td>\n",
       "      <td>Textiles</td>\n",
       "      <td>380</td>\n",
       "    </tr>\n",
       "    <tr>\n",
       "      <th>692</th>\n",
       "      <td>1654</td>\n",
       "      <td>Orkla</td>\n",
       "      <td>Norway</td>\n",
       "      <td>Conglomerate</td>\n",
       "      <td>364</td>\n",
       "    </tr>\n",
       "    <tr>\n",
       "      <th>768</th>\n",
       "      <td>1665</td>\n",
       "      <td>Gubernija</td>\n",
       "      <td>Lithuania</td>\n",
       "      <td>Brewery</td>\n",
       "      <td>353</td>\n",
       "    </tr>\n",
       "    <tr>\n",
       "      <th>791</th>\n",
       "      <td>1670</td>\n",
       "      <td>Hudson's Bay Company</td>\n",
       "      <td>Canada</td>\n",
       "      <td>Retailing</td>\n",
       "      <td>348</td>\n",
       "    </tr>\n",
       "  </tbody>\n",
       "</table>\n",
       "</div>"
      ],
      "text/plain": [
       "     Year                  Company Current location            Field   Age\n",
       "0     578               Kongō Gumi            Japan     Construction  1440\n",
       "5     803   Stiftskeller St. Peter          Austria       Restaurant  1215\n",
       "6     862           Staffelter Hof          Germany             Wine  1156\n",
       "7     864         Monnaie de Paris           France             Mint  1154\n",
       "9     886               Royal Mint   United Kingdom             Mint  1132\n",
       "10    900               Sean's Bar          Ireland              Pub  1118\n",
       "14   1000   Marinelli Bell Foundry            Italy          Foundry  1018\n",
       "20   1074         Affligem brewery          Belgium          Brewery   944\n",
       "31   1135              Munke Mølle          Denmark             Mill   883\n",
       "50   1230          Gasthof Sternen      Switzerland       Restaurant   788\n",
       "55   1248                  Bochnia           Poland             Salt   770\n",
       "65   1288                StoraEnso          Finland            Paper   730\n",
       "86   1328            Kremnica Mint         Slovakia             Mint   690\n",
       "94   1340                    Brand      Netherlands          Brewery   678\n",
       "99   1346          Skyllbergs bruk           Sweden  Iron processing   672\n",
       "100  1348          Pivovar Broumov   Czech Republic          Brewery   670\n",
       "141  1416               Bianyifang            China       Restaurant   602\n",
       "147  1422                Raeapteek          Estonia         Pharmacy   596\n",
       "205  1497         Raventós i Blanc            Spain             Wine   521\n",
       "352  1584       Çemberlitaş Hamamı           Turkey     Turkish bath   434\n",
       "377  1590                Cēsu Alus           Latvia          Brewery   428\n",
       "486  1613       Shirley Plantation    United States             Farm   405\n",
       "607  1635             Casa Batalha         Portugal        Jewellery   383\n",
       "620  1638  Tysmenytsia Fur Company          Ukraine         Textiles   380\n",
       "692  1654                    Orkla           Norway     Conglomerate   364\n",
       "768  1665                Gubernija        Lithuania          Brewery   353\n",
       "791  1670     Hudson's Bay Company           Canada        Retailing   348"
      ]
     },
     "execution_count": 29,
     "metadata": {},
     "output_type": "execute_result"
    }
   ],
   "source": [
    "idx = data.groupby('Current location')['Age'].idxmax()\n",
    "data.loc[idx].sort_values(by='Year')"
   ]
  },
  {
   "cell_type": "markdown",
   "metadata": {},
   "source": [
    "### Oldest Companies by Industry\n",
    "Let's now dive into the dataset by industry."
   ]
  },
  {
   "cell_type": "code",
   "execution_count": 30,
   "metadata": {},
   "outputs": [
    {
     "data": {
      "text/plain": [
       "Hotel                             117\n",
       "Brewery                            99\n",
       "Sake                               85\n",
       "Restaurant                         80\n",
       "Confectionery                      71\n",
       "Wine                               43\n",
       "Pharmacy                           34\n",
       "Clothing                           16\n",
       "Construction                       15\n",
       "Paper                              13\n",
       "Foods                              12\n",
       "Tea                                12\n",
       "Retailing                          11\n",
       "Cloth                               9\n",
       "Foundry                             8\n",
       "Miso                                7\n",
       "Pharmaceutical                      7\n",
       "Chemicals                           7\n",
       "Soy sauce                           7\n",
       "Farm                                7\n",
       "Distillery                          7\n",
       "Pub                                 7\n",
       "Bank                                6\n",
       "Religious goods                     6\n",
       "Publisher                           6\n",
       "Mill                                6\n",
       "Metalwork                           6\n",
       "Bakery                              5\n",
       "Lacquerware                         5\n",
       "Incense                             5\n",
       "                                 ... \n",
       "Tiles                               1\n",
       "Jewellery                           1\n",
       "Church                              1\n",
       "Architecture                        1\n",
       "Aluminium                           1\n",
       "Pillow                              1\n",
       "Appliances                          1\n",
       "Fabric                              1\n",
       "Sealing wax and ink                 1\n",
       "Somen noodles                       1\n",
       "Dried goods                         1\n",
       "Drums                               1\n",
       "Chocolate                           1\n",
       "Optics                              1\n",
       "Pharmacy, paper goods, incense      1\n",
       "Health care products                1\n",
       "Hanpen                              1\n",
       "Publishing                          1\n",
       "Lighthouse                          1\n",
       "Jewelry and clothing                1\n",
       "Defense                             1\n",
       "Shichimi                            1\n",
       "Clocks                              1\n",
       "Udon noodles                        1\n",
       "Industry                            1\n",
       "Spice                               1\n",
       "Pawnbroker                          1\n",
       "Eyeglasses                          1\n",
       "Karasumi                            1\n",
       "Perfume                             1\n",
       "Name: Field, Length: 211, dtype: int64"
      ]
     },
     "execution_count": 30,
     "metadata": {},
     "output_type": "execute_result"
    }
   ],
   "source": [
    "# count how many old companies under each field/industry\n",
    "data['Field'].value_counts()"
   ]
  },
  {
   "cell_type": "code",
   "execution_count": 31,
   "metadata": {},
   "outputs": [
    {
     "data": {
      "text/plain": [
       "211"
      ]
     },
     "execution_count": 31,
     "metadata": {},
     "output_type": "execute_result"
    }
   ],
   "source": [
    "# count how many industries in the dataset\n",
    "data['Field'].nunique()"
   ]
  },
  {
   "cell_type": "code",
   "execution_count": 32,
   "metadata": {},
   "outputs": [
    {
     "data": {
      "text/plain": [
       "Hotel             117\n",
       "Brewery            99\n",
       "Sake               85\n",
       "Restaurant         80\n",
       "Confectionery      71\n",
       "Wine               43\n",
       "Pharmacy           34\n",
       "Clothing           16\n",
       "Construction       15\n",
       "Paper              13\n",
       "Foods              12\n",
       "Tea                12\n",
       "Retailing          11\n",
       "Cloth               9\n",
       "Foundry             8\n",
       "Miso                7\n",
       "Pharmaceutical      7\n",
       "Chemicals           7\n",
       "Soy sauce           7\n",
       "Farm                7\n",
       "Name: Field, dtype: int64"
      ]
     },
     "execution_count": 32,
     "metadata": {},
     "output_type": "execute_result"
    }
   ],
   "source": [
    "# get the 20 industries with the greatest number of old companies\n",
    "data['Field'].value_counts().head(20)"
   ]
  },
  {
   "cell_type": "code",
   "execution_count": 33,
   "metadata": {},
   "outputs": [
    {
     "data": {
      "text/html": [
       "<div>\n",
       "<style scoped>\n",
       "    .dataframe tbody tr th:only-of-type {\n",
       "        vertical-align: middle;\n",
       "    }\n",
       "\n",
       "    .dataframe tbody tr th {\n",
       "        vertical-align: top;\n",
       "    }\n",
       "\n",
       "    .dataframe thead th {\n",
       "        text-align: right;\n",
       "    }\n",
       "</style>\n",
       "<table border=\"1\" class=\"dataframe\">\n",
       "  <thead>\n",
       "    <tr style=\"text-align: right;\">\n",
       "      <th></th>\n",
       "      <th>mean</th>\n",
       "      <th>median</th>\n",
       "      <th>max</th>\n",
       "    </tr>\n",
       "    <tr>\n",
       "      <th>Field</th>\n",
       "      <th></th>\n",
       "      <th></th>\n",
       "      <th></th>\n",
       "    </tr>\n",
       "  </thead>\n",
       "  <tbody>\n",
       "    <tr>\n",
       "      <th>Ceremonial paper goods</th>\n",
       "      <td>1247.000000</td>\n",
       "      <td>1247.0</td>\n",
       "      <td>1247</td>\n",
       "    </tr>\n",
       "    <tr>\n",
       "      <th>Mint</th>\n",
       "      <td>992.000000</td>\n",
       "      <td>1132.0</td>\n",
       "      <td>1154</td>\n",
       "    </tr>\n",
       "    <tr>\n",
       "      <th>Woodworking</th>\n",
       "      <td>944.000000</td>\n",
       "      <td>944.0</td>\n",
       "      <td>944</td>\n",
       "    </tr>\n",
       "    <tr>\n",
       "      <th>Land &amp; Livestock</th>\n",
       "      <td>890.000000</td>\n",
       "      <td>890.0</td>\n",
       "      <td>890</td>\n",
       "    </tr>\n",
       "    <tr>\n",
       "      <th>Harbor</th>\n",
       "      <td>882.000000</td>\n",
       "      <td>882.0</td>\n",
       "      <td>882</td>\n",
       "    </tr>\n",
       "    <tr>\n",
       "      <th>Pub</th>\n",
       "      <td>779.142857</td>\n",
       "      <td>776.0</td>\n",
       "      <td>1118</td>\n",
       "    </tr>\n",
       "    <tr>\n",
       "      <th>Cognac</th>\n",
       "      <td>748.000000</td>\n",
       "      <td>748.0</td>\n",
       "      <td>748</td>\n",
       "    </tr>\n",
       "    <tr>\n",
       "      <th>Inn</th>\n",
       "      <td>705.000000</td>\n",
       "      <td>705.0</td>\n",
       "      <td>705</td>\n",
       "    </tr>\n",
       "    <tr>\n",
       "      <th>Mill</th>\n",
       "      <td>677.000000</td>\n",
       "      <td>584.5</td>\n",
       "      <td>950</td>\n",
       "    </tr>\n",
       "    <tr>\n",
       "      <th>Iron processing</th>\n",
       "      <td>672.000000</td>\n",
       "      <td>672.0</td>\n",
       "      <td>672</td>\n",
       "    </tr>\n",
       "    <tr>\n",
       "      <th>Textile</th>\n",
       "      <td>672.000000</td>\n",
       "      <td>672.0</td>\n",
       "      <td>672</td>\n",
       "    </tr>\n",
       "    <tr>\n",
       "      <th>Blacksmith</th>\n",
       "      <td>668.000000</td>\n",
       "      <td>668.0</td>\n",
       "      <td>668</td>\n",
       "    </tr>\n",
       "    <tr>\n",
       "      <th>Bell</th>\n",
       "      <td>651.000000</td>\n",
       "      <td>651.0</td>\n",
       "      <td>651</td>\n",
       "    </tr>\n",
       "    <tr>\n",
       "      <th>Religious goods</th>\n",
       "      <td>635.833333</td>\n",
       "      <td>464.5</td>\n",
       "      <td>1133</td>\n",
       "    </tr>\n",
       "    <tr>\n",
       "      <th>Metalworking</th>\n",
       "      <td>631.500000</td>\n",
       "      <td>631.5</td>\n",
       "      <td>829</td>\n",
       "    </tr>\n",
       "    <tr>\n",
       "      <th>Church</th>\n",
       "      <td>631.000000</td>\n",
       "      <td>631.0</td>\n",
       "      <td>631</td>\n",
       "    </tr>\n",
       "    <tr>\n",
       "      <th>Salt</th>\n",
       "      <td>625.750000</td>\n",
       "      <td>634.5</td>\n",
       "      <td>770</td>\n",
       "    </tr>\n",
       "    <tr>\n",
       "      <th>Baths</th>\n",
       "      <td>600.000000</td>\n",
       "      <td>600.0</td>\n",
       "      <td>600</td>\n",
       "    </tr>\n",
       "    <tr>\n",
       "      <th>Herbs</th>\n",
       "      <td>584.000000</td>\n",
       "      <td>584.0</td>\n",
       "      <td>834</td>\n",
       "    </tr>\n",
       "    <tr>\n",
       "      <th>Boat building</th>\n",
       "      <td>580.000000</td>\n",
       "      <td>580.0</td>\n",
       "      <td>580</td>\n",
       "    </tr>\n",
       "  </tbody>\n",
       "</table>\n",
       "</div>"
      ],
      "text/plain": [
       "                               mean  median   max\n",
       "Field                                            \n",
       "Ceremonial paper goods  1247.000000  1247.0  1247\n",
       "Mint                     992.000000  1132.0  1154\n",
       "Woodworking              944.000000   944.0   944\n",
       "Land & Livestock         890.000000   890.0   890\n",
       "Harbor                   882.000000   882.0   882\n",
       "Pub                      779.142857   776.0  1118\n",
       "Cognac                   748.000000   748.0   748\n",
       "Inn                      705.000000   705.0   705\n",
       "Mill                     677.000000   584.5   950\n",
       "Iron processing          672.000000   672.0   672\n",
       "Textile                  672.000000   672.0   672\n",
       "Blacksmith               668.000000   668.0   668\n",
       "Bell                     651.000000   651.0   651\n",
       "Religious goods          635.833333   464.5  1133\n",
       "Metalworking             631.500000   631.5   829\n",
       "Church                   631.000000   631.0   631\n",
       "Salt                     625.750000   634.5   770\n",
       "Baths                    600.000000   600.0   600\n",
       "Herbs                    584.000000   584.0   834\n",
       "Boat building            580.000000   580.0   580"
      ]
     },
     "execution_count": 33,
     "metadata": {},
     "output_type": "execute_result"
    }
   ],
   "source": [
    "# compute the age stats for each industry\n",
    "field_stats= data.groupby('Field')['Age'].agg(['mean', 'median', 'max'])\n",
    "\n",
    "# get the 20 industries with the oldest mean company age\n",
    "field_by_mean_age = field_stats.sort_values(by='mean', ascending=False).head(20)\n",
    "field_by_mean_age"
   ]
  },
  {
   "cell_type": "code",
   "execution_count": 34,
   "metadata": {},
   "outputs": [
    {
     "data": {
      "text/html": [
       "<div>\n",
       "<style scoped>\n",
       "    .dataframe tbody tr th:only-of-type {\n",
       "        vertical-align: middle;\n",
       "    }\n",
       "\n",
       "    .dataframe tbody tr th {\n",
       "        vertical-align: top;\n",
       "    }\n",
       "\n",
       "    .dataframe thead th {\n",
       "        text-align: right;\n",
       "    }\n",
       "</style>\n",
       "<table border=\"1\" class=\"dataframe\">\n",
       "  <thead>\n",
       "    <tr style=\"text-align: right;\">\n",
       "      <th></th>\n",
       "      <th>mean</th>\n",
       "      <th>median</th>\n",
       "      <th>max</th>\n",
       "    </tr>\n",
       "    <tr>\n",
       "      <th>Field</th>\n",
       "      <th></th>\n",
       "      <th></th>\n",
       "      <th></th>\n",
       "    </tr>\n",
       "  </thead>\n",
       "  <tbody>\n",
       "    <tr>\n",
       "      <th>Construction</th>\n",
       "      <td>502.133333</td>\n",
       "      <td>404.0</td>\n",
       "      <td>1440</td>\n",
       "    </tr>\n",
       "    <tr>\n",
       "      <th>Hotel</th>\n",
       "      <td>517.940171</td>\n",
       "      <td>419.0</td>\n",
       "      <td>1313</td>\n",
       "    </tr>\n",
       "    <tr>\n",
       "      <th>Ceremonial paper goods</th>\n",
       "      <td>1247.000000</td>\n",
       "      <td>1247.0</td>\n",
       "      <td>1247</td>\n",
       "    </tr>\n",
       "    <tr>\n",
       "      <th>Restaurant</th>\n",
       "      <td>499.237500</td>\n",
       "      <td>463.5</td>\n",
       "      <td>1215</td>\n",
       "    </tr>\n",
       "    <tr>\n",
       "      <th>Wine</th>\n",
       "      <td>489.767442</td>\n",
       "      <td>398.0</td>\n",
       "      <td>1156</td>\n",
       "    </tr>\n",
       "    <tr>\n",
       "      <th>Mint</th>\n",
       "      <td>992.000000</td>\n",
       "      <td>1132.0</td>\n",
       "      <td>1154</td>\n",
       "    </tr>\n",
       "    <tr>\n",
       "      <th>Religious goods</th>\n",
       "      <td>635.833333</td>\n",
       "      <td>464.5</td>\n",
       "      <td>1133</td>\n",
       "    </tr>\n",
       "    <tr>\n",
       "      <th>Pub</th>\n",
       "      <td>779.142857</td>\n",
       "      <td>776.0</td>\n",
       "      <td>1118</td>\n",
       "    </tr>\n",
       "    <tr>\n",
       "      <th>Foundry</th>\n",
       "      <td>510.875000</td>\n",
       "      <td>387.5</td>\n",
       "      <td>1018</td>\n",
       "    </tr>\n",
       "    <tr>\n",
       "      <th>Confectionery</th>\n",
       "      <td>440.098592</td>\n",
       "      <td>401.0</td>\n",
       "      <td>1018</td>\n",
       "    </tr>\n",
       "    <tr>\n",
       "      <th>Brewery</th>\n",
       "      <td>519.888889</td>\n",
       "      <td>473.0</td>\n",
       "      <td>978</td>\n",
       "    </tr>\n",
       "    <tr>\n",
       "      <th>Mill</th>\n",
       "      <td>677.000000</td>\n",
       "      <td>584.5</td>\n",
       "      <td>950</td>\n",
       "    </tr>\n",
       "    <tr>\n",
       "      <th>Woodworking</th>\n",
       "      <td>944.000000</td>\n",
       "      <td>944.0</td>\n",
       "      <td>944</td>\n",
       "    </tr>\n",
       "    <tr>\n",
       "      <th>Land &amp; Livestock</th>\n",
       "      <td>890.000000</td>\n",
       "      <td>890.0</td>\n",
       "      <td>890</td>\n",
       "    </tr>\n",
       "    <tr>\n",
       "      <th>Harbor</th>\n",
       "      <td>882.000000</td>\n",
       "      <td>882.0</td>\n",
       "      <td>882</td>\n",
       "    </tr>\n",
       "    <tr>\n",
       "      <th>Sake</th>\n",
       "      <td>381.247059</td>\n",
       "      <td>363.0</td>\n",
       "      <td>877</td>\n",
       "    </tr>\n",
       "    <tr>\n",
       "      <th>Tea</th>\n",
       "      <td>462.833333</td>\n",
       "      <td>439.0</td>\n",
       "      <td>858</td>\n",
       "    </tr>\n",
       "    <tr>\n",
       "      <th>Herbs</th>\n",
       "      <td>584.000000</td>\n",
       "      <td>584.0</td>\n",
       "      <td>834</td>\n",
       "    </tr>\n",
       "    <tr>\n",
       "      <th>Metalworking</th>\n",
       "      <td>631.500000</td>\n",
       "      <td>631.5</td>\n",
       "      <td>829</td>\n",
       "    </tr>\n",
       "    <tr>\n",
       "      <th>Salt</th>\n",
       "      <td>625.750000</td>\n",
       "      <td>634.5</td>\n",
       "      <td>770</td>\n",
       "    </tr>\n",
       "  </tbody>\n",
       "</table>\n",
       "</div>"
      ],
      "text/plain": [
       "                               mean  median   max\n",
       "Field                                            \n",
       "Construction             502.133333   404.0  1440\n",
       "Hotel                    517.940171   419.0  1313\n",
       "Ceremonial paper goods  1247.000000  1247.0  1247\n",
       "Restaurant               499.237500   463.5  1215\n",
       "Wine                     489.767442   398.0  1156\n",
       "Mint                     992.000000  1132.0  1154\n",
       "Religious goods          635.833333   464.5  1133\n",
       "Pub                      779.142857   776.0  1118\n",
       "Foundry                  510.875000   387.5  1018\n",
       "Confectionery            440.098592   401.0  1018\n",
       "Brewery                  519.888889   473.0   978\n",
       "Mill                     677.000000   584.5   950\n",
       "Woodworking              944.000000   944.0   944\n",
       "Land & Livestock         890.000000   890.0   890\n",
       "Harbor                   882.000000   882.0   882\n",
       "Sake                     381.247059   363.0   877\n",
       "Tea                      462.833333   439.0   858\n",
       "Herbs                    584.000000   584.0   834\n",
       "Metalworking             631.500000   631.5   829\n",
       "Salt                     625.750000   634.5   770"
      ]
     },
     "execution_count": 34,
     "metadata": {},
     "output_type": "execute_result"
    }
   ],
   "source": [
    "# get the 20 industries with the oldest company age\n",
    "field_by_age = field_stats.sort_values(by='max', ascending=False).head(20)\n",
    "field_by_age"
   ]
  },
  {
   "cell_type": "markdown",
   "metadata": {},
   "source": [
    "In this part of the analysis, we find that:\n",
    "* There are 211 industries (or fields) in the dataset.\n",
    "\n",
    "The oldest companies in 20 chosen industries are:"
   ]
  },
  {
   "cell_type": "code",
   "execution_count": 36,
   "metadata": {},
   "outputs": [
    {
     "data": {
      "text/html": [
       "<div>\n",
       "<style scoped>\n",
       "    .dataframe tbody tr th:only-of-type {\n",
       "        vertical-align: middle;\n",
       "    }\n",
       "\n",
       "    .dataframe tbody tr th {\n",
       "        vertical-align: top;\n",
       "    }\n",
       "\n",
       "    .dataframe thead th {\n",
       "        text-align: right;\n",
       "    }\n",
       "</style>\n",
       "<table border=\"1\" class=\"dataframe\">\n",
       "  <thead>\n",
       "    <tr style=\"text-align: right;\">\n",
       "      <th></th>\n",
       "      <th>Year</th>\n",
       "      <th>Company</th>\n",
       "      <th>Current location</th>\n",
       "      <th>Field</th>\n",
       "      <th>Age</th>\n",
       "    </tr>\n",
       "  </thead>\n",
       "  <tbody>\n",
       "    <tr>\n",
       "      <th>143</th>\n",
       "      <td>1418</td>\n",
       "      <td>Krumbad</td>\n",
       "      <td>Germany</td>\n",
       "      <td>Baths</td>\n",
       "      <td>600</td>\n",
       "    </tr>\n",
       "    <tr>\n",
       "      <th>112</th>\n",
       "      <td>1367</td>\n",
       "      <td>H. Rüetschi</td>\n",
       "      <td>Switzerland</td>\n",
       "      <td>Bell</td>\n",
       "      <td>651</td>\n",
       "    </tr>\n",
       "    <tr>\n",
       "      <th>104</th>\n",
       "      <td>1350</td>\n",
       "      <td>Schmidberger</td>\n",
       "      <td>Austria</td>\n",
       "      <td>Blacksmith</td>\n",
       "      <td>668</td>\n",
       "    </tr>\n",
       "    <tr>\n",
       "      <th>158</th>\n",
       "      <td>1438</td>\n",
       "      <td>Camuffo di Portogruaro</td>\n",
       "      <td>Italy</td>\n",
       "      <td>Boat building</td>\n",
       "      <td>580</td>\n",
       "    </tr>\n",
       "    <tr>\n",
       "      <th>4</th>\n",
       "      <td>771</td>\n",
       "      <td>Genda Shigyō</td>\n",
       "      <td>Japan</td>\n",
       "      <td>Ceremonial paper goods</td>\n",
       "      <td>1247</td>\n",
       "    </tr>\n",
       "    <tr>\n",
       "      <th>124</th>\n",
       "      <td>1387</td>\n",
       "      <td>Veneranda Fabbrica del Duomo di Milano</td>\n",
       "      <td>Italy</td>\n",
       "      <td>Church</td>\n",
       "      <td>631</td>\n",
       "    </tr>\n",
       "    <tr>\n",
       "      <th>60</th>\n",
       "      <td>1270</td>\n",
       "      <td>Frapin</td>\n",
       "      <td>France</td>\n",
       "      <td>Cognac</td>\n",
       "      <td>748</td>\n",
       "    </tr>\n",
       "    <tr>\n",
       "      <th>33</th>\n",
       "      <td>1136</td>\n",
       "      <td>Aberdeen Harbour Board</td>\n",
       "      <td>United Kingdom</td>\n",
       "      <td>Harbor</td>\n",
       "      <td>882</td>\n",
       "    </tr>\n",
       "    <tr>\n",
       "      <th>39</th>\n",
       "      <td>1184</td>\n",
       "      <td>Kikuoka</td>\n",
       "      <td>Japan</td>\n",
       "      <td>Herbs</td>\n",
       "      <td>834</td>\n",
       "    </tr>\n",
       "    <tr>\n",
       "      <th>75</th>\n",
       "      <td>1313</td>\n",
       "      <td>Landgasthof Mayr</td>\n",
       "      <td>Austria</td>\n",
       "      <td>Inn</td>\n",
       "      <td>705</td>\n",
       "    </tr>\n",
       "    <tr>\n",
       "      <th>99</th>\n",
       "      <td>1346</td>\n",
       "      <td>Skyllbergs bruk</td>\n",
       "      <td>Sweden</td>\n",
       "      <td>Iron processing</td>\n",
       "      <td>672</td>\n",
       "    </tr>\n",
       "    <tr>\n",
       "      <th>27</th>\n",
       "      <td>1128</td>\n",
       "      <td>Halydean Corporation</td>\n",
       "      <td>United Kingdom</td>\n",
       "      <td>Land &amp; Livestock</td>\n",
       "      <td>890</td>\n",
       "    </tr>\n",
       "    <tr>\n",
       "      <th>41</th>\n",
       "      <td>1189</td>\n",
       "      <td>Ito Tekko</td>\n",
       "      <td>Japan</td>\n",
       "      <td>Metalworking</td>\n",
       "      <td>829</td>\n",
       "    </tr>\n",
       "    <tr>\n",
       "      <th>19</th>\n",
       "      <td>1068</td>\n",
       "      <td>Otterton Mill</td>\n",
       "      <td>United Kingdom</td>\n",
       "      <td>Mill</td>\n",
       "      <td>950</td>\n",
       "    </tr>\n",
       "    <tr>\n",
       "      <th>7</th>\n",
       "      <td>864</td>\n",
       "      <td>Monnaie de Paris</td>\n",
       "      <td>France</td>\n",
       "      <td>Mint</td>\n",
       "      <td>1154</td>\n",
       "    </tr>\n",
       "    <tr>\n",
       "      <th>10</th>\n",
       "      <td>900</td>\n",
       "      <td>Sean's Bar</td>\n",
       "      <td>Ireland</td>\n",
       "      <td>Pub</td>\n",
       "      <td>1118</td>\n",
       "    </tr>\n",
       "    <tr>\n",
       "      <th>8</th>\n",
       "      <td>885</td>\n",
       "      <td>Tanaka-Iga</td>\n",
       "      <td>Japan</td>\n",
       "      <td>Religious goods</td>\n",
       "      <td>1133</td>\n",
       "    </tr>\n",
       "    <tr>\n",
       "      <th>55</th>\n",
       "      <td>1248</td>\n",
       "      <td>Bochnia</td>\n",
       "      <td>Poland</td>\n",
       "      <td>Salt</td>\n",
       "      <td>770</td>\n",
       "    </tr>\n",
       "    <tr>\n",
       "      <th>98</th>\n",
       "      <td>1346</td>\n",
       "      <td>Takata</td>\n",
       "      <td>Japan</td>\n",
       "      <td>Textile</td>\n",
       "      <td>672</td>\n",
       "    </tr>\n",
       "    <tr>\n",
       "      <th>21</th>\n",
       "      <td>1074</td>\n",
       "      <td>Benediktinerstift Admont</td>\n",
       "      <td>Austria</td>\n",
       "      <td>Woodworking</td>\n",
       "      <td>944</td>\n",
       "    </tr>\n",
       "  </tbody>\n",
       "</table>\n",
       "</div>"
      ],
      "text/plain": [
       "     Year                                 Company Current location  \\\n",
       "143  1418                                 Krumbad          Germany   \n",
       "112  1367                             H. Rüetschi      Switzerland   \n",
       "104  1350                            Schmidberger          Austria   \n",
       "158  1438                  Camuffo di Portogruaro            Italy   \n",
       "4     771                            Genda Shigyō            Japan   \n",
       "124  1387  Veneranda Fabbrica del Duomo di Milano            Italy   \n",
       "60   1270                                  Frapin           France   \n",
       "33   1136                  Aberdeen Harbour Board   United Kingdom   \n",
       "39   1184                                 Kikuoka            Japan   \n",
       "75   1313                        Landgasthof Mayr          Austria   \n",
       "99   1346                         Skyllbergs bruk           Sweden   \n",
       "27   1128                    Halydean Corporation   United Kingdom   \n",
       "41   1189                               Ito Tekko            Japan   \n",
       "19   1068                           Otterton Mill   United Kingdom   \n",
       "7     864                        Monnaie de Paris           France   \n",
       "10    900                              Sean's Bar          Ireland   \n",
       "8     885                              Tanaka-Iga            Japan   \n",
       "55   1248                                 Bochnia           Poland   \n",
       "98   1346                                  Takata            Japan   \n",
       "21   1074                Benediktinerstift Admont          Austria   \n",
       "\n",
       "                      Field   Age  \n",
       "143                   Baths   600  \n",
       "112                    Bell   651  \n",
       "104              Blacksmith   668  \n",
       "158           Boat building   580  \n",
       "4    Ceremonial paper goods  1247  \n",
       "124                  Church   631  \n",
       "60                   Cognac   748  \n",
       "33                   Harbor   882  \n",
       "39                    Herbs   834  \n",
       "75                      Inn   705  \n",
       "99          Iron processing   672  \n",
       "27         Land & Livestock   890  \n",
       "41             Metalworking   829  \n",
       "19                     Mill   950  \n",
       "7                      Mint  1154  \n",
       "10                      Pub  1118  \n",
       "8           Religious goods  1133  \n",
       "55                     Salt   770  \n",
       "98                  Textile   672  \n",
       "21              Woodworking   944  "
      ]
     },
     "execution_count": 36,
     "metadata": {},
     "output_type": "execute_result"
    }
   ],
   "source": [
    "# get oldest company in each chosen industry (by mean company age)\n",
    "idx = data.groupby('Field')['Age'].idxmax()\n",
    "data.loc[idx].loc[data.Field.isin(field_by_mean_age.index.values)]"
   ]
  },
  {
   "cell_type": "markdown",
   "metadata": {},
   "source": [
    "**Conclusion:** We've uncovered some pretty interesting things about the world's oldest companies in this post, but we've managed to only scratch the surface. If you'd like to explore the dataset further, I'm making it available in this file [oldest-companies.csv](https://github.com/ralphqq/oldest-companies-nb/blob/master/oldest-companies.csv)."
   ]
  },
  {
   "cell_type": "code",
   "execution_count": 37,
   "metadata": {
    "collapsed": true
   },
   "outputs": [],
   "source": [
    "data.to_csv('oldest-companies.csv', index_label=False)"
   ]
  }
 ],
 "metadata": {
  "kernelspec": {
   "display_name": "Python 3",
   "language": "python",
   "name": "python3"
  },
  "language_info": {
   "codemirror_mode": {
    "name": "ipython",
    "version": 3
   },
   "file_extension": ".py",
   "mimetype": "text/x-python",
   "name": "python",
   "nbconvert_exporter": "python",
   "pygments_lexer": "ipython3",
   "version": "3.6.4"
  }
 },
 "nbformat": 4,
 "nbformat_minor": 2
}
